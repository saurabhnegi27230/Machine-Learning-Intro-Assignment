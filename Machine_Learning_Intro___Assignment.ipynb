{
  "nbformat": 4,
  "nbformat_minor": 0,
  "metadata": {
    "colab": {
      "provenance": []
    },
    "kernelspec": {
      "name": "python3",
      "display_name": "Python 3"
    },
    "language_info": {
      "name": "python"
    }
  },
  "cells": [
    {
      "cell_type": "markdown",
      "source": [
        "**Machine Learning Intro | Assignment**\n",
        "\n",
        "**QUESTION AND ANSWER**\n",
        "\n",
        "Q1: Explain the differences between AI, ML, Deep Learning (DL), and Data Science (DS).\n",
        "\n",
        "Answer:\n",
        "\n",
        "Artificial Intelligence (AI): Broad field focused on creating machines that can simulate human intelligence (reasoning, decision-making, problem-solving). Example: Chatbots.\n",
        "\n",
        "Machine Learning (ML): Subset of AI that uses data-driven algorithms to learn patterns and make predictions without being explicitly programmed. Example: Spam email detection.\n",
        "\n",
        "Deep Learning (DL): Subset of ML that uses neural networks with many layers for complex tasks like image recognition and natural language processing. Example: Self-driving cars.\n",
        "\n",
        "Data Science (DS): Interdisciplinary field combining statistics, programming, and domain knowledge to analyze and extract insights from data. Example: Customer churn analysis.\n",
        "\n",
        "Q2: What are the types of machine learning? Describe each with one real-world example.\n",
        "\n",
        "Answer:\n",
        "\n",
        "Supervised Learning – Model learns from labeled data.\n",
        "Example: Predicting house prices.\n",
        "\n",
        "Unsupervised Learning – Model finds hidden patterns in unlabeled data.\n",
        "Example: Customer segmentation in marketing.\n",
        "\n",
        "Reinforcement Learning – Agent learns through trial and error with rewards/penalties.\n",
        "Example: Game-playing AI (Chess, Go).\n",
        "\n",
        "Q3: Define overfitting, underfitting, and the bias-variance tradeoff in machine learning.\n",
        "\n",
        "Answer:\n",
        "\n",
        "Overfitting: Model learns training data too well, capturing noise → poor generalization.\n",
        "\n",
        "Underfitting: Model is too simple → fails to capture underlying patterns.\n",
        "\n",
        "Bias-Variance Tradeoff: Balance between model complexity (low bias, high variance) and simplicity (high bias, low variance). Optimal models minimize both.\n",
        "\n",
        "Q4: What are outliers in a dataset, and list three common techniques for handling them.\n",
        "\n",
        "Answer:\n",
        "Outliers are data points that significantly differ from the rest of the dataset.\n",
        "Techniques:\n",
        "\n",
        "Removal of outliers.\n",
        "\n",
        "Transformation (e.g., log transformation).\n",
        "\n",
        "Capping/flooring (e.g., Winsorization).\n",
        "\n",
        "Q5: Explain the process of handling missing values and mention one imputation technique for numerical and one for categorical data.\n",
        "\n",
        "Answer:\n",
        "Steps: Identify missing data → Analyze missingness pattern → Apply imputation.\n",
        "\n",
        "Numerical Imputation: Replace with mean/median.\n",
        "\n",
        "Categorical Imputation: Replace with most frequent value (mode)."
      ],
      "metadata": {
        "id": "nl0tyczZzQU3"
      }
    },
    {
      "cell_type": "code",
      "source": [
        "#Q6: Python program – Create imbalanced dataset and print distribution\n",
        "from sklearn.datasets import make_classification\n",
        "import numpy as np\n",
        "import pandas as pd\n",
        "\n",
        "X, y = make_classification(n_samples=1000, n_features=5, n_classes=2,\n",
        "                           weights=[0.9, 0.1], random_state=42)\n",
        "\n",
        "unique, counts = np.unique(y, return_counts=True)\n",
        "print(dict(zip(unique, counts)))"
      ],
      "metadata": {
        "colab": {
          "base_uri": "https://localhost:8080/"
        },
        "id": "FLzHw1b2zfXv",
        "outputId": "f8f6b61a-3201-4629-a0bd-0781711d35ac"
      },
      "execution_count": 2,
      "outputs": [
        {
          "output_type": "stream",
          "name": "stdout",
          "text": [
            "{np.int64(0): np.int64(895), np.int64(1): np.int64(105)}\n"
          ]
        }
      ]
    },
    {
      "cell_type": "code",
      "source": [
        "#Q7: One-hot encoding with pandas\n",
        "import pandas as pd\n",
        "\n",
        "colors = ['Red', 'Green', 'Blue', 'Green', 'Red']\n",
        "df = pd.DataFrame(colors, columns=['Color'])\n",
        "one_hot = pd.get_dummies(df['Color'])\n",
        "print(one_hot)"
      ],
      "metadata": {
        "colab": {
          "base_uri": "https://localhost:8080/"
        },
        "id": "qZSMck9Bzfuf",
        "outputId": "9be5c003-661d-4b70-a154-fcc2d6458ec2"
      },
      "execution_count": 1,
      "outputs": [
        {
          "output_type": "stream",
          "name": "stdout",
          "text": [
            "    Blue  Green    Red\n",
            "0  False  False   True\n",
            "1  False   True  False\n",
            "2   True  False  False\n",
            "3  False   True  False\n",
            "4  False  False   True\n"
          ]
        }
      ]
    },
    {
      "cell_type": "code",
      "source": [
        "#Q8: Generate normal distribution with missing values, impute, and plot\n",
        "import numpy as np\n",
        "import pandas as pd\n",
        "import matplotlib.pyplot as plt\n",
        "\n",
        "# Generate data\n",
        "data = np.random.normal(loc=50, scale=10, size=1000)\n",
        "df = pd.DataFrame(data, columns=['Value'])\n",
        "\n",
        "# Introduce missing values\n",
        "missing_indices = np.random.choice(df.index, 50, replace=False)\n",
        "df.loc[missing_indices, 'Value'] = np.nan\n",
        "\n",
        "# Plot before imputation\n",
        "df['Value'].hist(bins=30)\n",
        "plt.title(\"Before Imputation\")\n",
        "plt.show()\n",
        "\n",
        "# Impute with mean\n",
        "df['Value'].fillna(df['Value'].mean(), inplace=True)\n",
        "\n",
        "# Plot after imputation\n",
        "df['Value'].hist(bins=30)\n",
        "plt.title(\"After Imputation\")\n",
        "plt.show()"
      ],
      "metadata": {
        "colab": {
          "base_uri": "https://localhost:8080/",
          "height": 1000
        },
        "id": "-U7DiawW0Aqn",
        "outputId": "fba6b6e4-e231-4a78-9b6a-e1c44d838308"
      },
      "execution_count": 3,
      "outputs": [
        {
          "output_type": "display_data",
          "data": {
            "text/plain": [
              "<Figure size 640x480 with 1 Axes>"
            ],
            "image/png": "[encoded data removed]"
          },
          "metadata": {}
        },
        {
          "output_type": "stream",
          "name": "stderr",
          "text": [
            "/tmp/ipython-input-3139005642.py:20: FutureWarning: A value is trying to be set on a copy of a DataFrame or Series through chained assignment using an inplace method.\n",
            "The behavior will change in pandas 3.0. This inplace method will never work because the intermediate object on which we are setting values always behaves as a copy.\n",
            "\n",
            "For example, when doing 'df[col].method(value, inplace=True)', try using 'df.method({col: value}, inplace=True)' or df[col] = df[col].method(value) instead, to perform the operation inplace on the original object.\n",
            "\n",
            "\n",
            "  df['Value'].fillna(df['Value'].mean(), inplace=True)\n"
          ]
        },
        {
          "output_type": "display_data",
          "data": {
            "text/plain": [
              "<Figure size 640x480 with 1 Axes>"
            ],
            "image/png": "[encoded data removed]"
          },
          "metadata": {}
        }
      ]
    },
    {
      "cell_type": "code",
      "source": [
        "#Q9: Min-Max Scaling\n",
        "from sklearn.preprocessing import MinMaxScaler\n",
        "import numpy as np\n",
        "\n",
        "data = np.array([[2], [5], [10], [15], [20]])\n",
        "scaler = MinMaxScaler()\n",
        "scaled = scaler.fit_transform(data)\n",
        "print(scaled.flatten())"
      ],
      "metadata": {
        "colab": {
          "base_uri": "https://localhost:8080/"
        },
        "id": "pzMNnM270AUn",
        "outputId": "8c056066-59f3-4d74-e10c-582ed2670fcf"
      },
      "execution_count": 5,
      "outputs": [
        {
          "output_type": "stream",
          "name": "stdout",
          "text": [
            "[0.         0.16666667 0.44444444 0.72222222 1.        ]\n"
          ]
        }
      ]
    },
    {
      "cell_type": "markdown",
      "source": [
        "Q10: Data preparation plan for retail fraud dataset\n",
        "\n",
        "Answer:\n",
        "\n",
        "Handle Missing Data:\n",
        "\n",
        "Numerical (age): Impute with mean/median.\n",
        "\n",
        "Categorical (payment method): Impute with mode.\n",
        "\n",
        "Handle Outliers:\n",
        "\n",
        "Use IQR method or Winsorization on transaction amount.\n",
        "\n",
        "Handle Imbalance:\n",
        "\n",
        "Apply SMOTE (oversampling minority) or undersampling majority.\n",
        "\n",
        "Encoding:\n",
        "\n",
        "Apply One-Hot Encoding for categorical variables (e.g., payment method).\n",
        "\n",
        "Scaling:\n",
        "\n",
        "Apply Min-Max or Standard Scaler for numerical features.\n",
        "\n",
        "Final Step:\n",
        "\n",
        "Train-test split → Model training → Cross-validation."
      ],
      "metadata": {
        "id": "71JSAb9Y0K1H"
      }
    }
  ]
}